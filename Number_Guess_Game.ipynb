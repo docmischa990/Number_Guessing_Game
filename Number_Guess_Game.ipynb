{
 "cells": [
  {
   "cell_type": "code",
   "execution_count": 19,
   "id": "98950406-b7e2-4bb3-a102-0a7da3eb75d2",
   "metadata": {},
   "outputs": [
    {
     "name": "stdin",
     "output_type": "stream",
     "text": [
      "Guess the number between 1 and 100:  10\n"
     ]
    },
    {
     "name": "stdout",
     "output_type": "stream",
     "text": [
      "Too low!\n"
     ]
    },
    {
     "name": "stdin",
     "output_type": "stream",
     "text": [
      "Guess the number between 1 and 100:  90\n"
     ]
    },
    {
     "name": "stdout",
     "output_type": "stream",
     "text": [
      "Too high!\n"
     ]
    },
    {
     "name": "stdin",
     "output_type": "stream",
     "text": [
      "Guess the number between 1 and 100:  50\n"
     ]
    },
    {
     "name": "stdout",
     "output_type": "stream",
     "text": [
      "Too high!\n"
     ]
    },
    {
     "name": "stdin",
     "output_type": "stream",
     "text": [
      "Guess the number between 1 and 100:  30\n"
     ]
    },
    {
     "name": "stdout",
     "output_type": "stream",
     "text": [
      "Too high!\n"
     ]
    },
    {
     "name": "stdin",
     "output_type": "stream",
     "text": [
      "Guess the number between 1 and 100:  20\n"
     ]
    },
    {
     "name": "stdout",
     "output_type": "stream",
     "text": [
      "Too high!\n"
     ]
    },
    {
     "name": "stdin",
     "output_type": "stream",
     "text": [
      "Guess the number between 1 and 100:  15\n"
     ]
    },
    {
     "name": "stdout",
     "output_type": "stream",
     "text": [
      "Congradulations You Filthy Animal! No. of attempts 6 \n"
     ]
    }
   ],
   "source": [
    "# Generate a random numer\n",
    "# Loop\n",
    "# Ask the user to make a guess\n",
    "# If not a valid number\n",
    "#    Print an error\n",
    "# If number < guess\n",
    "#    Print too low\n",
    "# If number > guess\n",
    "#    Print too high\n",
    "# Else\n",
    "#    Print Congrats you're a Moron\n",
    "\n",
    "import random\n",
    "\n",
    "Guessing_number = random.randint(1, 100)\n",
    "\n",
    "attempt_count = 0\n",
    "\n",
    "while True:\n",
    "    try:\n",
    "        guess = int(input('Guess the number between 1 and 100: '))\n",
    "\n",
    "        attempt_count += 1\n",
    "        \n",
    "        if guess < Guessing_number:\n",
    "            print('Too low!')\n",
    "        elif guess > Guessing_number:\n",
    "            print ('Too high!')\n",
    "            \n",
    "            \n",
    "        \n",
    "        else: \n",
    "            print (f'Congradulations You Filthy Animal! No. of attempts {attempt_count} ')\n",
    "            break\n",
    "    except ValueError:\n",
    "        print('Please enter a valid number')\n",
    "\n",
    "\n",
    "\n",
    "\n"
   ]
  },
  {
   "cell_type": "code",
   "execution_count": 31,
   "id": "e481f893-4daa-47d7-807a-918e589bfe2c",
   "metadata": {},
   "outputs": [
    {
     "name": "stdin",
     "output_type": "stream",
     "text": [
      "Enter the minimum value for the guessing range:  1\n",
      "Enter the maximum value for the guessing range:  10\n",
      "Enter the maximum number of attempts you want to allow:  8\n",
      "Guess the number between 1 and 10:  1\n"
     ]
    },
    {
     "name": "stdout",
     "output_type": "stream",
     "text": [
      "Too low!\n"
     ]
    },
    {
     "name": "stdin",
     "output_type": "stream",
     "text": [
      "Guess the number between 1 and 10:  2\n"
     ]
    },
    {
     "name": "stdout",
     "output_type": "stream",
     "text": [
      "Too low!\n"
     ]
    },
    {
     "name": "stdin",
     "output_type": "stream",
     "text": [
      "Guess the number between 1 and 10:  3\n"
     ]
    },
    {
     "name": "stdout",
     "output_type": "stream",
     "text": [
      "Too low!\n"
     ]
    },
    {
     "name": "stdin",
     "output_type": "stream",
     "text": [
      "Guess the number between 1 and 10:  4\n"
     ]
    },
    {
     "name": "stdout",
     "output_type": "stream",
     "text": [
      "Congratulations! You guessed the number in 4 attempts.\n"
     ]
    }
   ],
   "source": [
    "import random\n",
    "\n",
    "# Ask the user for minimum and maximum values for the number range\n",
    "while True:\n",
    "    try:\n",
    "        min_value = int(input('Enter the minimum value for the guessing range: '))\n",
    "        max_value = int(input('Enter the maximum value for the guessing range: '))\n",
    "        \n",
    "        if min_value >= max_value:\n",
    "            print('Minimum value must be less than the maximum value. Please try again.')\n",
    "        else:\n",
    "            break  # Proceed if the range is valid\n",
    "    except ValueError:\n",
    "        print('Please enter valid numbers for the range.')\n",
    "\n",
    "# Ask the user to specify the maximum number of attempts\n",
    "while True:\n",
    "    try:\n",
    "        max_attempts = int(input('Enter the maximum number of attempts you want to allow: '))\n",
    "        if max_attempts <= 0:\n",
    "            print('The number of attempts must be greater than zero. Please try again.')\n",
    "        else:\n",
    "            break  # Proceed if the attempt limit is valid\n",
    "    except ValueError:\n",
    "        print('Please enter a valid number.')\n",
    "\n",
    "# Generate a random number within the specified range\n",
    "Guessing_number = random.randint(min_value, max_value)\n",
    "\n",
    "attempt_count = 0\n",
    "\n",
    "while True:\n",
    "    try:\n",
    "        guess = int(input(f'Guess the number between {min_value} and {max_value}: '))\n",
    "        \n",
    "        attempt_count += 1\n",
    "        \n",
    "        if guess < Guessing_number:\n",
    "            print('Too low!')\n",
    "        elif guess > Guessing_number:\n",
    "            print('Too high!')\n",
    "        else:\n",
    "            print(f'Congratulations! You guessed the number in {attempt_count} attempts.')\n",
    "            break\n",
    "        \n",
    "        # Check if the player has exceeded the maximum number of attempts\n",
    "        if attempt_count >= max_attempts:\n",
    "            print(f'Sorry, you\\'ve run out of attempts! The correct number was: {Guessing_number}')\n",
    "            break\n",
    "    except ValueError:\n",
    "        print('Please enter a valid number.')\n"
   ]
  },
  {
   "cell_type": "code",
   "execution_count": 37,
   "id": "99732e6e-6b33-41cb-a0f6-2256ba2935f4",
   "metadata": {},
   "outputs": [
    {
     "name": "stdin",
     "output_type": "stream",
     "text": [
      "Enter the minimum value for the guessing range:  1\n",
      "Enter the maximum value for the guessing range:  15\n",
      "Enter the maximum number of attempts you want to allow:  5\n",
      "Guess the number between 1 and 15:  1\n"
     ]
    },
    {
     "name": "stdout",
     "output_type": "stream",
     "text": [
      "Too low!\n"
     ]
    },
    {
     "name": "stdin",
     "output_type": "stream",
     "text": [
      "Guess the number between 1 and 15:  2\n"
     ]
    },
    {
     "name": "stdout",
     "output_type": "stream",
     "text": [
      "Too low!\n"
     ]
    },
    {
     "name": "stdin",
     "output_type": "stream",
     "text": [
      "Guess the number between 1 and 15:  3\n"
     ]
    },
    {
     "name": "stdout",
     "output_type": "stream",
     "text": [
      "Too low!\n"
     ]
    },
    {
     "name": "stdin",
     "output_type": "stream",
     "text": [
      "Guess the number between 1 and 15:  4\n"
     ]
    },
    {
     "name": "stdout",
     "output_type": "stream",
     "text": [
      "Too low!\n"
     ]
    },
    {
     "name": "stdin",
     "output_type": "stream",
     "text": [
      "Guess the number between 1 and 15:  5\n"
     ]
    },
    {
     "name": "stdout",
     "output_type": "stream",
     "text": [
      "Too low!\n",
      "Sorry, you've run out of attempts! The correct number was: 9\n"
     ]
    },
    {
     "name": "stdin",
     "output_type": "stream",
     "text": [
      "Do you want to play again? (y/n):  n\n"
     ]
    },
    {
     "name": "stdout",
     "output_type": "stream",
     "text": [
      "Thanks for playing! Your best score was None attempts. Goodbye.\n"
     ]
    }
   ],
   "source": [
    "import random\n",
    "\n",
    "# Track the best score globally\n",
    "best_score = None\n",
    "\n",
    "def start_game():\n",
    "    global best_score\n",
    "\n",
    "    # Ask the user for minimum and maximum values for the number range\n",
    "    while True:\n",
    "        try:\n",
    "            min_value = int(input('Enter the minimum value for the guessing range: '))\n",
    "            max_value = int(input('Enter the maximum value for the guessing range: '))\n",
    "            \n",
    "            if min_value >= max_value:\n",
    "                print('Minimum value must be less than the maximum value. Please try again.')\n",
    "            else:\n",
    "                break  # Proceed if the range is valid\n",
    "        except ValueError:\n",
    "            print('Please enter valid numbers for the range.')\n",
    "\n",
    "    # Ask the user to specify the maximum number of attempts\n",
    "    while True:\n",
    "        try:\n",
    "            max_attempts = int(input('Enter the maximum number of attempts you want to allow: '))\n",
    "            if max_attempts <= 0:\n",
    "                print('The number of attempts must be greater than zero. Please try again.')\n",
    "            else:\n",
    "                break  # Proceed if the attempt limit is valid\n",
    "        except ValueError:\n",
    "            print('Please enter a valid number.')\n",
    "\n",
    "    # Generate a random number within the specified range\n",
    "    Guessing_number = random.randint(min_value, max_value)\n",
    "    \n",
    "    attempt_count = 0\n",
    "\n",
    "    while True:\n",
    "        try:\n",
    "            guess = int(input(f'Guess the number between {min_value} and {max_value}: '))\n",
    "            \n",
    "            attempt_count += 1\n",
    "            \n",
    "            if guess < Guessing_number:\n",
    "                print('Too low!')\n",
    "            elif guess > Guessing_number:\n",
    "                print('Too high!')\n",
    "            else:\n",
    "                print(f'Congratulations! You guessed the number in {attempt_count} attempts.')\n",
    "                \n",
    "                # Update best score if applicable\n",
    "                if best_score is None or attempt_count < best_score:\n",
    "                    best_score = attempt_count\n",
    "                    print(f\"New best score: {best_score} attempts!\")\n",
    "\n",
    "                else:\n",
    "                    print(f\"Your best score is still: {best_score} attempts.\")\n",
    "                break\n",
    "            \n",
    "            # Check if the player has exceeded the maximum number of attempts\n",
    "            if attempt_count >= max_attempts:\n",
    "                print(f'Sorry, you\\'ve run out of attempts! The correct number was: {Guessing_number}')\n",
    "                break\n",
    "        except ValueError:\n",
    "            print('Please enter a valid number.')\n",
    "\n",
    "    # After the game ends, ask if the user wants to restart\n",
    "    restart_game()\n",
    "\n",
    "def restart_game():\n",
    "    # Ask the user if they want to play again or quit\n",
    "    while True:\n",
    "        restart = input('Do you want to play again? (y/n): ').lower()\n",
    "        if restart == 'y':\n",
    "            start_game()  # Restart the game\n",
    "        elif restart == 'n':\n",
    "            print(f'Thanks for playing! Your best score was {best_score} attempts. Goodbye.')\n",
    "            break  # Exit the loop and end the program\n",
    "        else:\n",
    "            print('Invalid choice. Please enter \"y\" for yes or \"n\" for no.')\n",
    "\n",
    "# Start the game for the first time\n",
    "start_game()\n"
   ]
  },
  {
   "cell_type": "code",
   "execution_count": null,
   "id": "ec447ea6-e63f-4d20-a307-93d72e3cedd4",
   "metadata": {},
   "outputs": [],
   "source": []
  }
 ],
 "metadata": {
  "kernelspec": {
   "display_name": "Python 3 (ipykernel)",
   "language": "python",
   "name": "python3"
  },
  "language_info": {
   "codemirror_mode": {
    "name": "ipython",
    "version": 3
   },
   "file_extension": ".py",
   "mimetype": "text/x-python",
   "name": "python",
   "nbconvert_exporter": "python",
   "pygments_lexer": "ipython3",
   "version": "3.12.4"
  }
 },
 "nbformat": 4,
 "nbformat_minor": 5
}
